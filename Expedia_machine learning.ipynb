{
 "cells": [
  {
   "cell_type": "markdown",
   "metadata": {},
   "source": [
    "# Expedia Hotel Recommendations\n",
    "\n",
    "![Expedia](https://ppt.cc/fldtFx@.jpg)"
   ]
  },
  {
   "cell_type": "markdown",
   "metadata": {},
   "source": [
    "<table>\n",
    "  <tr>\n",
    "    <td>Column name</td>\n",
    "    <td>Description</td>\n",
    "  </tr>\n",
    "  <tr>\n",
    "    <td>date_time</td>\n",
    "    <td>Timestamp</td>\n",
    "  </tr>\n",
    "  <tr>\n",
    "    <td>site_name</td>\n",
    "    <td>ID of the Expedia point of sale</td>\n",
    "  </tr>\n",
    "  <tr>\n",
    "    <td>posa_continent</td>\n",
    "    <td>ID of continent associated with site_name</td>\n",
    "  </tr>\n",
    "  <tr>\n",
    "    <td>user_location_country</td>\n",
    "    <td>The ID of the country the customer is located</td>\n",
    "  </tr>\n",
    "  <tr>\n",
    "    <td>user_location_region</td>\n",
    "    <td>The ID of the region the customer is located</td>\n",
    "  </tr>\n",
    "  <tr>\n",
    "    <td>user_location_city</td>\n",
    "    <td>The ID of the city the customer is located</td>\n",
    "  </tr>\n",
    "  <tr>\n",
    "    <td>orig_destination_distance</td>\n",
    "    <td>Physical distance between a hotel and a customer at the time of search</td>\n",
    "  </tr>\n",
    "  <tr>\n",
    "    <td>user_id</td>\n",
    "    <td>ID of user</td>\n",
    "  </tr>\n",
    "  <tr>\n",
    "    <td>is_mobile</td>\n",
    "    <td>1 when a user connected from a mobile device, 0 otherwise</td>\n",
    "  </tr>\n",
    "  <tr>\n",
    "    <td>is_package</td>\n",
    "    <td>1 if the click/booking was generated as a part of a package</td>\n",
    "  </tr>\n",
    "  <tr>\n",
    "    <td>channel</td>\n",
    "    <td>ID of a marketing channel</td>\n",
    "  </tr>\n",
    "  <tr>\n",
    "    <td>srch_ci</td>\n",
    "    <td>Checkin date</td>\n",
    "  </tr>\n",
    "  <tr>\n",
    "    <td>srch_co</td>\n",
    "    <td>Checkout date</td>\n",
    "  </tr>\n",
    "  <tr>\n",
    "    <td>srch_adults_cnt</td>\n",
    "    <td>The number of adults specified in the hotel room</td>\n",
    "  </tr>\n",
    "  <tr>\n",
    "    <td>srch_children_cnt</td>\n",
    "    <td>The number of (extra occupancy) children specified in the hotel room</td>\n",
    "  </tr>\n",
    "  <tr>\n",
    "    <td>srch_rm_cnt</td>\n",
    "    <td>The number of hotel rooms specified in the search</td>\n",
    "  </tr>\n",
    "  <tr>\n",
    "    <td>srch_destination_id</td>\n",
    "    <td>ID of the destination where the hotel search was performed</td>\n",
    "  </tr>\n",
    "  <tr>\n",
    "    <td>srch_destination_type_id</td>\n",
    "    <td>Type of destination</td>\n",
    "  </tr>\n",
    "  <tr>\n",
    "    <td>hotel_continent</td>\n",
    "    <td>Hotel continent</td>\n",
    "  </tr>\n",
    "  <tr>\n",
    "    <td>hotel_country</td>\n",
    "    <td>Hotel country</td>\n",
    "  </tr>\n",
    "  <tr>\n",
    "    <td>hotel_market</td>\n",
    "    <td>Hotel market</td>\n",
    "  </tr>\n",
    "  <tr>\n",
    "    <td>is_booking</td>\n",
    "    <td>1 if a booking, 0 if a click</td>\n",
    "  </tr>\n",
    "  <tr>\n",
    "    <td>cnt</td>\n",
    "    <td>Number of similar events in the context of the same user session</td>\n",
    "  </tr>\n",
    "  <tr>\n",
    "    <td>hotel_cluster</td>\n",
    "    <td>ID of a hotel cluster</td>\n",
    "  </tr>\n",
    "    \n",
    "</table>"
   ]
  },
  {
   "cell_type": "code",
   "execution_count": 1,
   "metadata": {},
   "outputs": [],
   "source": [
    "import os\n",
    "\n",
    "mingw_path = 'C:\\\\Program Files\\\\mingw-w64\\\\x86_64-7.3.0-posix-seh-rt_v5-rev0\\\\mingw64\\\\bin'\n",
    "\n",
    "os.environ['PATH'] = mingw_path + ';' + os.environ['PATH']"
   ]
  },
  {
   "cell_type": "code",
   "execution_count": 2,
   "metadata": {},
   "outputs": [],
   "source": [
    "import numpy as np\n",
    "import pandas as pd\n",
    "import sys\n",
    "from sklearn.model_selection import cross_val_score"
   ]
  },
  {
   "cell_type": "markdown",
   "metadata": {},
   "source": [
    "## 匯入data"
   ]
  },
  {
   "cell_type": "code",
   "execution_count": 3,
   "metadata": {},
   "outputs": [],
   "source": [
    "destinations = pd.read_csv(\"destinations.csv\")"
   ]
  },
  {
   "cell_type": "code",
   "execution_count": 4,
   "metadata": {},
   "outputs": [],
   "source": [
    "test=pd.read_csv('test.csv')"
   ]
  },
  {
   "cell_type": "code",
   "execution_count": 5,
   "metadata": {},
   "outputs": [],
   "source": [
    "train = pd.read_csv(\"train.csv\")"
   ]
  },
  {
   "cell_type": "code",
   "execution_count": 6,
   "metadata": {
    "scrolled": true
   },
   "outputs": [
    {
     "name": "stdout",
     "output_type": "stream",
     "text": [
      "<class 'pandas.core.frame.DataFrame'>\n",
      "RangeIndex: 37670293 entries, 0 to 37670292\n",
      "Data columns (total 24 columns):\n",
      "date_time                    object\n",
      "site_name                    int64\n",
      "posa_continent               int64\n",
      "user_location_country        int64\n",
      "user_location_region         int64\n",
      "user_location_city           int64\n",
      "orig_destination_distance    float64\n",
      "user_id                      int64\n",
      "is_mobile                    int64\n",
      "is_package                   int64\n",
      "channel                      int64\n",
      "srch_ci                      object\n",
      "srch_co                      object\n",
      "srch_adults_cnt              int64\n",
      "srch_children_cnt            int64\n",
      "srch_rm_cnt                  int64\n",
      "srch_destination_id          int64\n",
      "srch_destination_type_id     int64\n",
      "is_booking                   int64\n",
      "cnt                          int64\n",
      "hotel_continent              int64\n",
      "hotel_country                int64\n",
      "hotel_market                 int64\n",
      "hotel_cluster                int64\n",
      "dtypes: float64(1), int64(20), object(3)\n",
      "memory usage: 6.7+ GB\n"
     ]
    }
   ],
   "source": [
    "train.info()"
   ]
  },
  {
   "cell_type": "markdown",
   "metadata": {},
   "source": [
    "## 轉換日期格式"
   ]
  },
  {
   "cell_type": "code",
   "execution_count": 7,
   "metadata": {},
   "outputs": [],
   "source": [
    "train[\"date_time\"] = pd.to_datetime(train[\"date_time\"])\n",
    "train[\"year\"] = train[\"date_time\"].dt.year\n",
    "train[\"month\"] = train[\"date_time\"].dt.month"
   ]
  },
  {
   "cell_type": "markdown",
   "metadata": {},
   "source": [
    "## 隨機抽取10000個用戶，並將原訓練集分為新訓練集t1及新測試集t2"
   ]
  },
  {
   "cell_type": "code",
   "execution_count": 8,
   "metadata": {},
   "outputs": [],
   "source": [
    "import  random\n",
    "\n",
    "unique_users= train.user_id.unique()\n",
    "\n",
    "sel_user_ids = [unique_users[i] for i in sorted(random.sample(range(len(unique_users)), 10000)) ]\n",
    "sel_train = train[train.user_id.isin(sel_user_ids)]"
   ]
  },
  {
   "cell_type": "code",
   "execution_count": 9,
   "metadata": {},
   "outputs": [],
   "source": [
    "t1 = sel_train[((sel_train.year == 2013) | ((sel_train.year == 2014) & (sel_train.month < 8)))]\n",
    "t2 = sel_train[((sel_train.year == 2014) & (sel_train.month >= 8))]"
   ]
  },
  {
   "cell_type": "markdown",
   "metadata": {},
   "source": [
    "## 選擇feature"
   ]
  },
  {
   "cell_type": "code",
   "execution_count": 41,
   "metadata": {},
   "outputs": [],
   "source": [
    "select_feature =  ['site_name','posa_continent','user_location_country','user_location_region','user_location_city','is_mobile', 'is_package', 'srch_adults_cnt', 'srch_children_cnt', 'srch_destination_id','srch_destination_type_id','hotel_market', 'hotel_country']"
   ]
  },
  {
   "cell_type": "code",
   "execution_count": 42,
   "metadata": {},
   "outputs": [],
   "source": [
    "x_train = t1[select_feature]\n",
    "y_train = t1['hotel_cluster']"
   ]
  },
  {
   "cell_type": "code",
   "execution_count": 43,
   "metadata": {},
   "outputs": [],
   "source": [
    "x_test = test[select_feature]"
   ]
  },
  {
   "cell_type": "markdown",
   "metadata": {},
   "source": [
    "## 使用RandomForest進行訓練\n",
    "[RandomForest](http://scikit-learn.org/stable/modules/ensemble.html#forest)"
   ]
  },
  {
   "cell_type": "code",
   "execution_count": 14,
   "metadata": {},
   "outputs": [],
   "source": [
    "from sklearn.ensemble import RandomForestClassifier"
   ]
  },
  {
   "cell_type": "code",
   "execution_count": 15,
   "metadata": {},
   "outputs": [],
   "source": [
    "clf = RandomForestClassifier(n_estimators=10, min_weight_fraction_leaf=0.1)"
   ]
  },
  {
   "cell_type": "code",
   "execution_count": 16,
   "metadata": {},
   "outputs": [
    {
     "data": {
      "text/plain": [
       "RandomForestClassifier(bootstrap=True, class_weight=None, criterion='gini',\n",
       "            max_depth=None, max_features='auto', max_leaf_nodes=None,\n",
       "            min_impurity_decrease=0.0, min_impurity_split=None,\n",
       "            min_samples_leaf=1, min_samples_split=2,\n",
       "            min_weight_fraction_leaf=0.1, n_estimators=10, n_jobs=1,\n",
       "            oob_score=False, random_state=None, verbose=0,\n",
       "            warm_start=False)"
      ]
     },
     "execution_count": 16,
     "metadata": {},
     "output_type": "execute_result"
    }
   ],
   "source": [
    "clf.fit(x_train,y_train)"
   ]
  },
  {
   "cell_type": "code",
   "execution_count": 17,
   "metadata": {},
   "outputs": [
    {
     "data": {
      "text/plain": [
       "0.056719566440129"
      ]
     },
     "execution_count": 17,
     "metadata": {},
     "output_type": "execute_result"
    }
   ],
   "source": [
    "from sklearn.model_selection import cross_val_score\n",
    "cross_val_score(clf, x_train, y_train, cv=10).mean()"
   ]
  },
  {
   "cell_type": "markdown",
   "metadata": {},
   "source": [
    "## 使用XGboost進行訓練\n",
    "[XGboost](http://xgboost.readthedocs.io/en/latest/python/python_intro.html)"
   ]
  },
  {
   "cell_type": "code",
   "execution_count": 51,
   "metadata": {},
   "outputs": [],
   "source": [
    "import xgboost as xgb\n",
    "from xgboost import XGBClassifier"
   ]
  },
  {
   "cell_type": "code",
   "execution_count": 52,
   "metadata": {},
   "outputs": [],
   "source": [
    "xgbc = XGBClassifier()"
   ]
  },
  {
   "cell_type": "code",
   "execution_count": 20,
   "metadata": {},
   "outputs": [
    {
     "data": {
      "text/plain": [
       "XGBClassifier(base_score=0.5, booster='gbtree', colsample_bylevel=1,\n",
       "       colsample_bytree=1, gamma=0, learning_rate=0.1, max_delta_step=0,\n",
       "       max_depth=3, min_child_weight=1, missing=None, n_estimators=100,\n",
       "       n_jobs=1, nthread=None, objective='multi:softprob', random_state=0,\n",
       "       reg_alpha=0, reg_lambda=1, scale_pos_weight=1, seed=None,\n",
       "       silent=True, subsample=1)"
      ]
     },
     "execution_count": 20,
     "metadata": {},
     "output_type": "execute_result"
    }
   ],
   "source": [
    "xgbc.fit(x_train, y_train)"
   ]
  },
  {
   "cell_type": "code",
   "execution_count": 21,
   "metadata": {},
   "outputs": [
    {
     "name": "stderr",
     "output_type": "stream",
     "text": [
      "C:\\Users\\Jimmy\\AppData\\Local\\Continuum\\anaconda3\\lib\\site-packages\\sklearn\\preprocessing\\label.py:151: DeprecationWarning: The truth value of an empty array is ambiguous. Returning False, but in future this will result in an error. Use `array.size > 0` to check that an array is not empty.\n",
      "  if diff:\n"
     ]
    },
    {
     "data": {
      "text/plain": [
       "0.163010023286423"
      ]
     },
     "execution_count": 21,
     "metadata": {},
     "output_type": "execute_result"
    }
   ],
   "source": [
    "xgbc.score(x_train,y_train)"
   ]
  },
  {
   "cell_type": "markdown",
   "metadata": {},
   "source": [
    "## 使用nearest neighbors進行訓練\n",
    "[nearest neighbors](http://scikit-learn.org/stable/modules/neighbors.html#classification)"
   ]
  },
  {
   "cell_type": "code",
   "execution_count": 16,
   "metadata": {},
   "outputs": [],
   "source": [
    "from sklearn.neighbors.nearest_centroid import NearestCentroid"
   ]
  },
  {
   "cell_type": "code",
   "execution_count": 17,
   "metadata": {},
   "outputs": [],
   "source": [
    "clf_nearest = NearestCentroid()"
   ]
  },
  {
   "cell_type": "code",
   "execution_count": 18,
   "metadata": {},
   "outputs": [
    {
     "data": {
      "text/plain": [
       "NearestCentroid(metric='euclidean', shrink_threshold=None)"
      ]
     },
     "execution_count": 18,
     "metadata": {},
     "output_type": "execute_result"
    }
   ],
   "source": [
    "clf_nearest.fit(x_train,y_train)"
   ]
  },
  {
   "cell_type": "code",
   "execution_count": 21,
   "metadata": {},
   "outputs": [
    {
     "data": {
      "text/plain": [
       "0.006991130677529817"
      ]
     },
     "execution_count": 21,
     "metadata": {},
     "output_type": "execute_result"
    }
   ],
   "source": [
    "cross_val_score(clf_nearest, x_train, y_train, cv=10).mean()"
   ]
  },
  {
   "cell_type": "markdown",
   "metadata": {},
   "source": [
    "## keras"
   ]
  },
  {
   "cell_type": "code",
   "execution_count": 13,
   "metadata": {},
   "outputs": [
    {
     "name": "stderr",
     "output_type": "stream",
     "text": [
      "C:\\Users\\Jimmy\\AppData\\Local\\Continuum\\anaconda3\\lib\\site-packages\\h5py\\__init__.py:36: FutureWarning: Conversion of the second argument of issubdtype from `float` to `np.floating` is deprecated. In future, it will be treated as `np.float64 == np.dtype(float).type`.\n",
      "  from ._conv import register_converters as _register_converters\n",
      "Using TensorFlow backend.\n"
     ]
    }
   ],
   "source": [
    "import keras\n",
    "from keras.layers import Dense , Dropout\n",
    "from keras.models import Sequential"
   ]
  },
  {
   "cell_type": "code",
   "execution_count": 14,
   "metadata": {},
   "outputs": [],
   "source": [
    "keras_model = keras.models.Sequential()"
   ]
  },
  {
   "cell_type": "code",
   "execution_count": 15,
   "metadata": {},
   "outputs": [],
   "source": [
    "keras_model.add(keras.layers.Dense(30,kernel_initializer='uniform',input_dim=13 , activation=('relu')))"
   ]
  },
  {
   "cell_type": "code",
   "execution_count": 16,
   "metadata": {},
   "outputs": [],
   "source": [
    "keras_model.add(keras.layers.Dense(5,kernel_initializer='uniform',activation=('relu'))) "
   ]
  },
  {
   "cell_type": "code",
   "execution_count": 17,
   "metadata": {},
   "outputs": [],
   "source": [
    "keras_model.add(keras.layers.Dense(1,kernel_initializer='uniform',activation=('sigmoid'))) "
   ]
  },
  {
   "cell_type": "code",
   "execution_count": 18,
   "metadata": {},
   "outputs": [],
   "source": [
    "keras_model.compile(loss='mse', optimizer='adam',metrics=['accuracy'])"
   ]
  },
  {
   "cell_type": "code",
   "execution_count": 19,
   "metadata": {},
   "outputs": [
    {
     "name": "stdout",
     "output_type": "stream",
     "text": [
      "Epoch 1/20\n",
      "200827/200827 [==============================] - 4s 20us/step - loss: 3228.1032 - acc: 0.0110\n",
      "Epoch 2/20\n",
      "200827/200827 [==============================] - 4s 20us/step - loss: 3228.0085 - acc: 0.0110\n",
      "Epoch 3/20\n",
      "200827/200827 [==============================] - 4s 19us/step - loss: 3228.0085 - acc: 0.0110\n",
      "Epoch 4/20\n",
      "200827/200827 [==============================] - 4s 20us/step - loss: 3228.0085 - acc: 0.0110\n",
      "Epoch 5/20\n",
      "200827/200827 [==============================] - 4s 20us/step - loss: 3228.0085 - acc: 0.0110\n",
      "Epoch 6/20\n",
      "200827/200827 [==============================] - 4s 20us/step - loss: 3228.0085 - acc: 0.0110\n",
      "Epoch 7/20\n",
      "200827/200827 [==============================] - 4s 20us/step - loss: 3228.0085 - acc: 0.0110\n",
      "Epoch 8/20\n",
      "200827/200827 [==============================] - 4s 21us/step - loss: 3228.0085 - acc: 0.0110\n",
      "Epoch 9/20\n",
      "200827/200827 [==============================] - 4s 20us/step - loss: 3228.0085 - acc: 0.0110\n",
      "Epoch 10/20\n",
      "200827/200827 [==============================] - 4s 20us/step - loss: 3228.0085 - acc: 0.0110\n",
      "Epoch 11/20\n",
      "200827/200827 [==============================] - 4s 20us/step - loss: 3228.0085 - acc: 0.0110\n",
      "Epoch 12/20\n",
      "200827/200827 [==============================] - 4s 19us/step - loss: 3228.0085 - acc: 0.0110\n",
      "Epoch 13/20\n",
      "200827/200827 [==============================] - 4s 20us/step - loss: 3228.0085 - acc: 0.0110\n",
      "Epoch 14/20\n",
      "200827/200827 [==============================] - 4s 20us/step - loss: 3228.0085 - acc: 0.0110\n",
      "Epoch 15/20\n",
      "200827/200827 [==============================] - 4s 20us/step - loss: 3228.0085 - acc: 0.0110\n",
      "Epoch 16/20\n",
      "200827/200827 [==============================] - 4s 20us/step - loss: 3228.0085 - acc: 0.0110\n",
      "Epoch 17/20\n",
      "200827/200827 [==============================] - 4s 21us/step - loss: 3228.0085 - acc: 0.0110\n",
      "Epoch 18/20\n",
      "200827/200827 [==============================] - 4s 20us/step - loss: 3228.0085 - acc: 0.0110\n",
      "Epoch 19/20\n",
      "200827/200827 [==============================] - 4s 20us/step - loss: 3228.0085 - acc: 0.0110\n",
      "Epoch 20/20\n",
      "200827/200827 [==============================] - 4s 19us/step - loss: 3228.0085 - acc: 0.0110\n"
     ]
    },
    {
     "data": {
      "text/plain": [
       "<keras.callbacks.History at 0x1d2b103b828>"
      ]
     },
     "execution_count": 19,
     "metadata": {},
     "output_type": "execute_result"
    }
   ],
   "source": [
    "keras_model.fit(x_train, y_train,epochs=1)"
   ]
  },
  {
   "cell_type": "code",
   "execution_count": 32,
   "metadata": {},
   "outputs": [
    {
     "name": "stdout",
     "output_type": "stream",
     "text": [
      "203973/203973 [==============================] - 2s 9us/step\n"
     ]
    },
    {
     "data": {
      "text/plain": [
       "0.013256656518264673"
      ]
     },
     "execution_count": 32,
     "metadata": {},
     "output_type": "execute_result"
    }
   ],
   "source": [
    "acc_trainacc_trai = keras_model.evaluate(x_train, y_train)\n",
    "acc_trainacc_trai[1]"
   ]
  },
  {
   "cell_type": "code",
   "execution_count": null,
   "metadata": {},
   "outputs": [],
   "source": []
  }
 ],
 "metadata": {
  "kernelspec": {
   "display_name": "Python 3",
   "language": "python",
   "name": "python3"
  },
  "language_info": {
   "codemirror_mode": {
    "name": "ipython",
    "version": 3
   },
   "file_extension": ".py",
   "mimetype": "text/x-python",
   "name": "python",
   "nbconvert_exporter": "python",
   "pygments_lexer": "ipython3",
   "version": "3.5.5"
  }
 },
 "nbformat": 4,
 "nbformat_minor": 2
}
